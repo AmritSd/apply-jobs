{
 "cells": [
  {
   "cell_type": "code",
   "execution_count": 11,
   "metadata": {},
   "outputs": [
    {
     "name": "stderr",
     "output_type": "stream",
     "text": [
      "[WDM] - Downloading: 100%|██████████| 6.79M/6.79M [00:00<00:00, 20.9MB/s]\n"
     ]
    },
    {
     "name": "stdout",
     "output_type": "stream",
     "text": [
      "Here\n"
     ]
    }
   ],
   "source": [
    "# A bot that will apply for jobs\n",
    "url = \"https://www.linkedin.com/jobs/search/?currentJobId=3509101579&keywords=marketing%20manager\"\n",
    "\n",
    "# url = \"https://careers-peraton.icims.com/jobs/131931/software-engineer-ii/candidate?from=login&eem=MWnpnU8MV3MIeioSn89IA93rGjdGFiVZVpBictjqKHLiDJqX%252FfNbjubZV3kx5PlL&code=b7ed6762f06974c7bebe9d05fa1fe50fa33dfcc0b66bbd72e7df19cb72963012&ga=81a5c8777d484570e5f4030406aff2ae558d7345d3ee572bc4471d1023cec550&accept_gdpr=1\"\n",
    "# url = \"https://www.tesla.com/careers/search/job/apply/159337?source=LinkedIn\"\n",
    "\n",
    "# url = \"https://wd1.myworkdaysite.com/en-US/recruiting/fmr/FidelityCareers/job/Boston-MA/Principle-Software-Engineer---Quant-Developer_2071123/apply/\"\n",
    "\n",
    "from selenium import webdriver\n",
    "from selenium.webdriver.common.by import By\n",
    "from selenium.webdriver.chrome.service import Service as ChromeService\n",
    "from webdriver_manager.chrome import ChromeDriverManager\n",
    "import requests\n",
    "import os\n",
    "import time\n",
    "import datetime\n",
    "import pickle\n",
    "import atexit\n",
    "\n",
    "\n",
    "\n",
    "# define a function to save cookies\n",
    "def save_cookies(driver):\n",
    "    print(\"Saving cookies\")\n",
    "    pickle.dump(driver.get_cookies(), open(\"cookies.pkl\", \"wb\"))\n",
    "\n",
    "\n",
    "driver = webdriver.Chrome(service=ChromeService(executable_path=ChromeDriverManager().install()))\n",
    "driver.get(url)\n",
    "\n",
    "# load cookies from a file, if available\n",
    "try:\n",
    "    cookies = pickle.load(open(\"cookies.pkl\", \"rb\"))\n",
    "    for cookie in cookies:\n",
    "        driver.add_cookie(cookie)\n",
    "except:\n",
    "    pass\n",
    "\n",
    "\n",
    "driver.get(url)\n",
    "print(\"Here\")\n"
   ]
  },
  {
   "cell_type": "code",
   "execution_count": 17,
   "metadata": {},
   "outputs": [
    {
     "name": "stdout",
     "output_type": "stream",
     "text": [
      "Saving cookies\n"
     ]
    }
   ],
   "source": [
    "save_cookies(driver)"
   ]
  },
  {
   "cell_type": "code",
   "execution_count": 8,
   "metadata": {},
   "outputs": [],
   "source": [
    "corpus_file = \"resume.json\"\n",
    "import json\n",
    "import openai\n",
    "import numpy as np\n",
    "\n",
    "\n",
    "with open(corpus_file) as f:\n",
    "    corpus = json.load(f)\n",
    "\n",
    "\n",
    "def get_embedding(text, model=\"text-embedding-ada-002\"):\n",
    "   text = text.replace(\"\\n\", \" \")\n",
    "   return openai.Embedding.create(input = [text], model=model)['data'][0]['embedding']\n",
    "\n",
    "def cosine_similarity(a, b):\n",
    "    return np.dot(a, b) / (np.linalg.norm(a) * np.linalg.norm(b))\n",
    "corpus_embeddings = {}\n",
    "\n",
    "for key, value in corpus.items():\n",
    "    corpus_embeddings[key] = get_embedding(key)"
   ]
  },
  {
   "cell_type": "code",
   "execution_count": 21,
   "metadata": {},
   "outputs": [
    {
     "name": "stdout",
     "output_type": "stream",
     "text": [
      "https://careers.united.com/us/en/apply/5/1?jobSeqNo=UAIUADUSWHQ00022003EXTERNALENUSTALEO\n",
      "<input type=\"text\" field-label=\"apply_field_label_city\" name=\"workCity\" id=\"workCity\" autocomplete=\"off\" value=\"\" maxlength=\"100\" class=\"form-control mandatory max100\" placeholder=\"Enter City\">\n",
      "Top match:  city\n",
      "Score:  0.8046568811847269\n",
      "Austin\n",
      "<input type=\"text\" field-label=\"apply_field_label_school\" name=\"institution\" id=\"institution\" autocomplete=\"off\" value=\"\" maxlength=\"100\" class=\"form-control  clonedInputElm dyna-load mandatory max100\" placeholder=\"Search Institution name\">\n",
      "Top match:  school\n",
      "Score:  0.7871862395987576\n",
      "University of Texas at Austin\n",
      "<input type=\"text\" field-label=\"apply_field_label_fieldofStudy\" name=\"program\" id=\"program\" autocomplete=\"off\" value=\"\" maxlength=\"255\" class=\"form-control clonedInputElm dyna-load max255\" placeholder=\"Enter program name\">\n",
      "Top match:  school\n",
      "Score:  0.769180334234622\n",
      "No match found\n",
      "Program\n",
      "Top match:  school\n",
      "Score:  0.845808250605527\n",
      "University of Texas at Austin\n",
      "<input type=\"text\" field-label=\"apply_field_label_fieldofStudy\" name=\"program\" id=\"program\" autocomplete=\"off\" value=\"\" maxlength=\"255\" class=\"form-control clonedInputElm dyna-load max255\" placeholder=\"Enter program name\">\n",
      "Top match:  school\n",
      "Score:  0.7690420839290518\n",
      "No match found\n",
      "Program\n",
      "Top match:  school\n",
      "Score:  0.845808250605527\n",
      "University of Texas at Austin\n",
      "<input type=\"text\" field-label=\"apply_field_label_fieldofStudy\" name=\"program\" id=\"program\" autocomplete=\"off\" value=\"\" maxlength=\"255\" class=\"form-control clonedInputElm dyna-load max255 ui-autocomplete-input\" placeholder=\"Enter program name\">\n",
      "Top match:  school\n",
      "Score:  0.7673886541208186\n",
      "No match found\n",
      "Program\n",
      "Top match:  school\n",
      "Score:  0.8458592463247916\n",
      "University of Texas at Austin\n"
     ]
    },
    {
     "ename": "KeyboardInterrupt",
     "evalue": "",
     "output_type": "error",
     "traceback": [
      "\u001b[1;31m---------------------------------------------------------------------------\u001b[0m",
      "\u001b[1;31mKeyboardInterrupt\u001b[0m                         Traceback (most recent call last)",
      "\u001b[1;32mc:\\Users\\amrit\\Documents\\GitHub\\apply-jobs\\job_apply_fill.ipynb Cell 4\u001b[0m in \u001b[0;36m<cell line: 10>\u001b[1;34m()\u001b[0m\n\u001b[0;32m      <a href='vscode-notebook-cell:/c%3A/Users/amrit/Documents/GitHub/apply-jobs/job_apply_fill.ipynb#W3sZmlsZQ%3D%3D?line=7'>8</a>\u001b[0m active_element \u001b[39m=\u001b[39m driver\u001b[39m.\u001b[39mswitch_to\u001b[39m.\u001b[39mactive_element\n\u001b[0;32m     <a href='vscode-notebook-cell:/c%3A/Users/amrit/Documents/GitHub/apply-jobs/job_apply_fill.ipynb#W3sZmlsZQ%3D%3D?line=9'>10</a>\u001b[0m \u001b[39mwhile\u001b[39;00m \u001b[39mTrue\u001b[39;00m:\n\u001b[1;32m---> <a href='vscode-notebook-cell:/c%3A/Users/amrit/Documents/GitHub/apply-jobs/job_apply_fill.ipynb#W3sZmlsZQ%3D%3D?line=10'>11</a>\u001b[0m     sleep(\u001b[39m1\u001b[39;49m)\n\u001b[0;32m     <a href='vscode-notebook-cell:/c%3A/Users/amrit/Documents/GitHub/apply-jobs/job_apply_fill.ipynb#W3sZmlsZQ%3D%3D?line=11'>12</a>\u001b[0m     new_element \u001b[39m=\u001b[39m driver\u001b[39m.\u001b[39mswitch_to\u001b[39m.\u001b[39mactive_element\n\u001b[0;32m     <a href='vscode-notebook-cell:/c%3A/Users/amrit/Documents/GitHub/apply-jobs/job_apply_fill.ipynb#W3sZmlsZQ%3D%3D?line=12'>13</a>\u001b[0m     \u001b[39mif\u001b[39;00m new_element \u001b[39m==\u001b[39m active_element \u001b[39mor\u001b[39;00m (new_element\u001b[39m.\u001b[39mtag_name \u001b[39m!=\u001b[39m \u001b[39m\"\u001b[39m\u001b[39minput\u001b[39m\u001b[39m\"\u001b[39m \u001b[39mand\u001b[39;00m new_element\u001b[39m.\u001b[39mtag_name \u001b[39m!=\u001b[39m \u001b[39m\"\u001b[39m\u001b[39mtextarea\u001b[39m\u001b[39m\"\u001b[39m):\n",
      "\u001b[1;31mKeyboardInterrupt\u001b[0m: "
     ]
    }
   ],
   "source": [
    "from time import sleep\n",
    "driver.switch_to.window(driver.window_handles[-1])\n",
    "# get url\n",
    "url = driver.current_url\n",
    "print(url)\n",
    "\n",
    "i = 0\n",
    "active_element = driver.switch_to.active_element\n",
    "\n",
    "while True:\n",
    "    sleep(1)\n",
    "    new_element = driver.switch_to.active_element\n",
    "    if new_element == active_element or (new_element.tag_name != \"input\" and new_element.tag_name != \"textarea\"):\n",
    "        i += 1\n",
    "        \n",
    "        if(i % 10 == 0):\n",
    "            driver.switch_to.window(driver.window_handles[-1])\n",
    "        continue\n",
    "\n",
    "    active_element = new_element\n",
    "\n",
    "    \n",
    "    # get element html\n",
    "    search_query = active_element.get_attribute(\"outerHTML\")\n",
    "    print(str(search_query))\n",
    "\n",
    "    \n",
    "    search_query_embedding = get_embedding(search_query)\n",
    "\n",
    "    # List matches sorted by score in descending order\n",
    "    matches = sorted(\n",
    "        corpus_embeddings.items(),\n",
    "        key=lambda item: cosine_similarity(item[1], search_query_embedding),\n",
    "        reverse=True,\n",
    "    )\n",
    "\n",
    "    # Get the match with the highest score\n",
    "    top_match = matches[0]\n",
    "    print(\"Top match: \", top_match[0])\n",
    "    print(\"Score: \", cosine_similarity(top_match[1], search_query_embedding))\n",
    "\n",
    "    if(cosine_similarity(top_match[1], search_query_embedding) < 0.786):\n",
    "        print(\"No match found\")\n",
    "        try:\n",
    "            name = active_element.get_attribute(\"name\")\n",
    "            # get label with active element name\n",
    "            label = driver.find_element(By.XPATH, \"//label[@for='\" + name + \"']\")\n",
    "            # get label text\n",
    "            search_query = label.text\n",
    "            print(str(search_query))\n",
    "            search_query_embedding = get_embedding(search_query)\n",
    "\n",
    "            matches = sorted(\n",
    "                corpus_embeddings.items(),\n",
    "                key=lambda item: cosine_similarity(item[1], search_query_embedding),\n",
    "                reverse=True,\n",
    "            )\n",
    "\n",
    "            top_match = matches[0]\n",
    "            print(\"Top match: \", top_match[0])\n",
    "            print(\"Score: \", cosine_similarity(top_match[1], search_query_embedding))\n",
    "\n",
    "            if(cosine_similarity(top_match[1], search_query_embedding) < 0.786):\n",
    "                print(\"No match found\")\n",
    "                continue\n",
    "        except Exception as e:\n",
    "            print(e)\n",
    "            continue\n",
    "\n",
    "\n",
    "    # get the text\n",
    "    text = corpus[top_match[0]]\n",
    "    print(text)\n",
    "\n",
    "    # send the text\n",
    "    active_element.send_keys(text)\n",
    "\n",
    "\n",
    "\n",
    "\n",
    "    \n",
    "\n"
   ]
  },
  {
   "cell_type": "code",
   "execution_count": 24,
   "metadata": {},
   "outputs": [
    {
     "name": "stdout",
     "output_type": "stream",
     "text": [
      "Employer *\n",
      "is a required field.:\n",
      "Name during employment:\n",
      "Employer City *\n",
      "is a required field.:\n",
      "Employer State *\n",
      "is a required field.:\n",
      "Job Title:\n",
      "End Date *\n",
      "is a required field.:\n",
      "Supervisor's Name:\n",
      "Supervisor's Phone:\n",
      "Education *\n",
      "is a required field.:\n",
      "Country *\n",
      "is a required field.:\n",
      "Program:\n",
      "Education Level *\n",
      "is a required field.:\n",
      "Start Date *\n",
      "is a required field.:\n",
      "Graduation Date:\n",
      "Education *\n",
      "is a required field.:\n",
      "Country *\n",
      "is a required field.:\n",
      "Program:\n",
      "Education Level *\n",
      "is a required field.:\n",
      "Start Date *\n",
      "is a required field.:\n",
      "Graduation Date:\n"
     ]
    }
   ],
   "source": [
    "# get all inputs textareas and select elements in order\n",
    "for element in driver.find_elements(By.XPATH, \"//input | //textarea | //select\"):\n",
    "    # get label\n",
    "    try:\n",
    "        name = element.get_attribute(\"name\")\n",
    "        # get label with active element name\n",
    "        label = driver.find_element(By.XPATH, \"//label[@for='\" + name + \"']\")\n",
    "        # get label text\n",
    "        search_query = label.text\n",
    "\n",
    "        # remove newline character\n",
    "        search_query = search_query.replace(\"\\n\", \" \")\n",
    "        print(str(search_query) + \":\")\n",
    "    except:\n",
    "        continue"
   ]
  },
  {
   "cell_type": "code",
   "execution_count": null,
   "metadata": {},
   "outputs": [],
   "source": []
  }
 ],
 "metadata": {
  "kernelspec": {
   "display_name": "Python 3",
   "language": "python",
   "name": "python3"
  },
  "language_info": {
   "codemirror_mode": {
    "name": "ipython",
    "version": 3
   },
   "file_extension": ".py",
   "mimetype": "text/x-python",
   "name": "python",
   "nbconvert_exporter": "python",
   "pygments_lexer": "ipython3",
   "version": "3.10.4"
  },
  "orig_nbformat": 4,
  "vscode": {
   "interpreter": {
    "hash": "0831c9a8f38bf0534c50bfaa0f7ad63ee7d3a6b807ce61f39252cf011aaed1cf"
   }
  }
 },
 "nbformat": 4,
 "nbformat_minor": 2
}
