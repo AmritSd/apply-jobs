{
 "cells": [
  {
   "cell_type": "code",
   "execution_count": 2,
   "metadata": {},
   "outputs": [],
   "source": [
    "resume = { \n",
    "    'first name' : 'Amrit',\n",
    "    'last name' : 'Sandhu', \n",
    "    'email' : 'amritsmail2002@gmail.com', \n",
    "    'phone' : '5127814002',\n",
    "    'address first line' : '10307 Morado Cv',\n",
    "    'address second line' : 'Austin, Tx 78759',\n",
    "    'zip' : '78759',\n",
    "    'city' : 'Austin',\n",
    "    'state' : 'Texas',\n",
    "    'country' : 'United States',\n",
    "    'phone code' : '+1',\n",
    "    'cover letter' : 'Hello',\n",
    "    'school' : 'University of Texas at Austin',\n",
    "}\n",
    "\n",
    "# Save as resume.json\n",
    "with open('resume.json', 'w') as f:\n",
    "    import json\n",
    "    json.dump(resume, f)"
   ]
  }
 ],
 "metadata": {
  "kernelspec": {
   "display_name": "Python 3",
   "language": "python",
   "name": "python3"
  },
  "language_info": {
   "codemirror_mode": {
    "name": "ipython",
    "version": 3
   },
   "file_extension": ".py",
   "mimetype": "text/x-python",
   "name": "python",
   "nbconvert_exporter": "python",
   "pygments_lexer": "ipython3",
   "version": "3.10.4"
  },
  "orig_nbformat": 4
 },
 "nbformat": 4,
 "nbformat_minor": 2
}
