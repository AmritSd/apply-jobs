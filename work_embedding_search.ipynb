{
 "cells": [
  {
   "cell_type": "code",
   "execution_count": 33,
   "metadata": {},
   "outputs": [],
   "source": [
    "corpus_file = \"resume.json\"\n",
    "import json\n",
    "import openai\n",
    "import numpy as np\n",
    "\n",
    "\n",
    "with open(corpus_file) as f:\n",
    "    corpus = json.load(f)"
   ]
  },
  {
   "cell_type": "code",
   "execution_count": 34,
   "metadata": {},
   "outputs": [],
   "source": [
    "def get_embedding(text, model=\"text-embedding-ada-002\"):\n",
    "   text = text.replace(\"\\n\", \" \")\n",
    "   return openai.Embedding.create(input = [text], model=model)['data'][0]['embedding']\n",
    "\n",
    "def cosine_similarity(a, b):\n",
    "    return np.dot(a, b) / (np.linalg.norm(a) * np.linalg.norm(b))\n",
    "corpus_embeddings = {}\n",
    "\n",
    "for key, value in corpus.items():\n",
    "    corpus_embeddings[key] = get_embedding(key)"
   ]
  },
  {
   "cell_type": "code",
   "execution_count": 35,
   "metadata": {},
   "outputs": [],
   "source": [
    "search_query = ''\n",
    "\n",
    "search_query_embedding = get_embedding(search_query)"
   ]
  },
  {
   "cell_type": "code",
   "execution_count": 36,
   "metadata": {},
   "outputs": [
    {
     "name": "stdout",
     "output_type": "stream",
     "text": [
      "first name: 0.8232315470284024\n",
      "last name: 0.7883485997175658\n",
      "email: 0.7847387290164958\n",
      "address first line: 0.7812575287402347\n",
      "state: 0.753786630344903\n",
      "phone: 0.7527209413352499\n",
      "address second line: 0.7523788791126623\n",
      "cover letter: 0.7510164035230384\n",
      "city: 0.7437584434964702\n",
      "phone code: 0.7387762783157852\n",
      "country: 0.7370720216814678\n",
      "zip: 0.7264819862558951\n"
     ]
    }
   ],
   "source": [
    "# List matches sorted by score in descending order\n",
    "matches = sorted(\n",
    "    corpus_embeddings.items(),\n",
    "    key=lambda item: cosine_similarity(item[1], search_query_embedding),\n",
    "    reverse=True,\n",
    ")\n",
    "\n",
    "for match in matches:\n",
    "    print(f\"{match[0]}: {cosine_similarity(match[1], search_query_embedding)}\")"
   ]
  }
 ],
 "metadata": {
  "kernelspec": {
   "display_name": "Python 3",
   "language": "python",
   "name": "python3"
  },
  "language_info": {
   "codemirror_mode": {
    "name": "ipython",
    "version": 3
   },
   "file_extension": ".py",
   "mimetype": "text/x-python",
   "name": "python",
   "nbconvert_exporter": "python",
   "pygments_lexer": "ipython3",
   "version": "3.10.4"
  },
  "orig_nbformat": 4
 },
 "nbformat": 4,
 "nbformat_minor": 2
}
